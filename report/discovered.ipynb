{
 "cells": [
  {
   "cell_type": "code",
   "execution_count": null,
   "metadata": {},
   "outputs": [],
   "source": [
    "!pip install matplotlib"
   ]
  },
  {
   "cell_type": "code",
   "execution_count": 117,
   "metadata": {},
   "outputs": [],
   "source": [
    "import matplotlib.pyplot as plt\n",
    "import pandas as pd\n",
    "from datetime import datetime\n",
    "import warnings\n",
    "import ml.pipeline as pipeline\n",
    "\n",
    "\n",
    "warnings.simplefilter(action='ignore', category=Warning)\n",
    "plt.style.use('dark_background')"
   ]
  },
  {
   "cell_type": "code",
   "execution_count": null,
   "metadata": {},
   "outputs": [
    {
     "data": {
      "application/vnd.microsoft.datawrangler.viewer.v0+json": {
       "columns": [
        {
         "name": "index",
         "rawType": "int64",
         "type": "integer"
        },
        {
         "name": "days",
         "rawType": "int64",
         "type": "integer"
        },
        {
         "name": "coef",
         "rawType": "float64",
         "type": "float"
        },
        {
         "name": "size_prediction",
         "rawType": "int64",
         "type": "integer"
        },
        {
         "name": "rmse",
         "rawType": "float64",
         "type": "float"
        }
       ],
       "conversionMethod": "pd.DataFrame",
       "ref": "62357298-ef71-46f9-af59-10bf60f68dde",
       "rows": [
        [
         "0",
         "1",
         "0.1",
         "29",
         "0.0151317891942608"
        ],
        [
         "1",
         "1",
         "0.2",
         "58",
         "0.0261904141981956"
        ],
        [
         "2",
         "1",
         "0.3",
         "87",
         "0.0625007903499151"
        ],
        [
         "3",
         "1",
         "0.4",
         "116",
         "0.0400268064129175"
        ],
        [
         "4",
         "2",
         "0.1",
         "5",
         "0.0290363296142389"
        ],
        [
         "5",
         "2",
         "0.2",
         "10",
         "0.0200794230649758"
        ],
        [
         "6",
         "2",
         "0.3",
         "15",
         "0.0220296114200772"
        ],
        [
         "7",
         "2",
         "0.4",
         "20",
         "0.0328045318762217"
        ],
        [
         "8",
         "3",
         "0.1",
         "8",
         "0.0387433320672603"
        ],
        [
         "9",
         "3",
         "0.2",
         "15",
         "0.0183862362326779"
        ],
        [
         "10",
         "3",
         "0.3",
         "22",
         "0.1187160199313922"
        ],
        [
         "11",
         "3",
         "0.4",
         "30",
         "0.3306465392516617"
        ],
        [
         "12",
         "4",
         "0.1",
         "10",
         "0.0230288964497457"
        ],
        [
         "13",
         "4",
         "0.2",
         "20",
         "0.0209929029512188"
        ],
        [
         "14",
         "4",
         "0.3",
         "30",
         "0.3311346390841547"
        ],
        [
         "15",
         "4",
         "0.4",
         "39",
         "0.4052207823712951"
        ],
        [
         "16",
         "5",
         "0.1",
         "13",
         "0.0203880434792778"
        ],
        [
         "17",
         "5",
         "0.2",
         "25",
         "0.1926678086002552"
        ],
        [
         "18",
         "5",
         "0.3",
         "37",
         "0.4907849183341232"
        ],
        [
         "19",
         "5",
         "0.4",
         "49",
         "0.5619632327091345"
        ]
       ],
       "shape": {
        "columns": 4,
        "rows": 20
       }
      },
      "text/html": [
       "<div>\n",
       "<style scoped>\n",
       "    .dataframe tbody tr th:only-of-type {\n",
       "        vertical-align: middle;\n",
       "    }\n",
       "\n",
       "    .dataframe tbody tr th {\n",
       "        vertical-align: top;\n",
       "    }\n",
       "\n",
       "    .dataframe thead th {\n",
       "        text-align: right;\n",
       "    }\n",
       "</style>\n",
       "<table border=\"1\" class=\"dataframe\">\n",
       "  <thead>\n",
       "    <tr style=\"text-align: right;\">\n",
       "      <th></th>\n",
       "      <th>days</th>\n",
       "      <th>coef</th>\n",
       "      <th>size_prediction</th>\n",
       "      <th>rmse</th>\n",
       "    </tr>\n",
       "  </thead>\n",
       "  <tbody>\n",
       "    <tr>\n",
       "      <th>0</th>\n",
       "      <td>1</td>\n",
       "      <td>0.1</td>\n",
       "      <td>29</td>\n",
       "      <td>0.015132</td>\n",
       "    </tr>\n",
       "    <tr>\n",
       "      <th>1</th>\n",
       "      <td>1</td>\n",
       "      <td>0.2</td>\n",
       "      <td>58</td>\n",
       "      <td>0.026190</td>\n",
       "    </tr>\n",
       "    <tr>\n",
       "      <th>2</th>\n",
       "      <td>1</td>\n",
       "      <td>0.3</td>\n",
       "      <td>87</td>\n",
       "      <td>0.062501</td>\n",
       "    </tr>\n",
       "    <tr>\n",
       "      <th>3</th>\n",
       "      <td>1</td>\n",
       "      <td>0.4</td>\n",
       "      <td>116</td>\n",
       "      <td>0.040027</td>\n",
       "    </tr>\n",
       "    <tr>\n",
       "      <th>4</th>\n",
       "      <td>2</td>\n",
       "      <td>0.1</td>\n",
       "      <td>5</td>\n",
       "      <td>0.029036</td>\n",
       "    </tr>\n",
       "    <tr>\n",
       "      <th>5</th>\n",
       "      <td>2</td>\n",
       "      <td>0.2</td>\n",
       "      <td>10</td>\n",
       "      <td>0.020079</td>\n",
       "    </tr>\n",
       "    <tr>\n",
       "      <th>6</th>\n",
       "      <td>2</td>\n",
       "      <td>0.3</td>\n",
       "      <td>15</td>\n",
       "      <td>0.022030</td>\n",
       "    </tr>\n",
       "    <tr>\n",
       "      <th>7</th>\n",
       "      <td>2</td>\n",
       "      <td>0.4</td>\n",
       "      <td>20</td>\n",
       "      <td>0.032805</td>\n",
       "    </tr>\n",
       "    <tr>\n",
       "      <th>8</th>\n",
       "      <td>3</td>\n",
       "      <td>0.1</td>\n",
       "      <td>8</td>\n",
       "      <td>0.038743</td>\n",
       "    </tr>\n",
       "    <tr>\n",
       "      <th>9</th>\n",
       "      <td>3</td>\n",
       "      <td>0.2</td>\n",
       "      <td>15</td>\n",
       "      <td>0.018386</td>\n",
       "    </tr>\n",
       "    <tr>\n",
       "      <th>10</th>\n",
       "      <td>3</td>\n",
       "      <td>0.3</td>\n",
       "      <td>22</td>\n",
       "      <td>0.118716</td>\n",
       "    </tr>\n",
       "    <tr>\n",
       "      <th>11</th>\n",
       "      <td>3</td>\n",
       "      <td>0.4</td>\n",
       "      <td>30</td>\n",
       "      <td>0.330647</td>\n",
       "    </tr>\n",
       "    <tr>\n",
       "      <th>12</th>\n",
       "      <td>4</td>\n",
       "      <td>0.1</td>\n",
       "      <td>10</td>\n",
       "      <td>0.023029</td>\n",
       "    </tr>\n",
       "    <tr>\n",
       "      <th>13</th>\n",
       "      <td>4</td>\n",
       "      <td>0.2</td>\n",
       "      <td>20</td>\n",
       "      <td>0.020993</td>\n",
       "    </tr>\n",
       "    <tr>\n",
       "      <th>14</th>\n",
       "      <td>4</td>\n",
       "      <td>0.3</td>\n",
       "      <td>30</td>\n",
       "      <td>0.331135</td>\n",
       "    </tr>\n",
       "    <tr>\n",
       "      <th>15</th>\n",
       "      <td>4</td>\n",
       "      <td>0.4</td>\n",
       "      <td>39</td>\n",
       "      <td>0.405221</td>\n",
       "    </tr>\n",
       "    <tr>\n",
       "      <th>16</th>\n",
       "      <td>5</td>\n",
       "      <td>0.1</td>\n",
       "      <td>13</td>\n",
       "      <td>0.020388</td>\n",
       "    </tr>\n",
       "    <tr>\n",
       "      <th>17</th>\n",
       "      <td>5</td>\n",
       "      <td>0.2</td>\n",
       "      <td>25</td>\n",
       "      <td>0.192668</td>\n",
       "    </tr>\n",
       "    <tr>\n",
       "      <th>18</th>\n",
       "      <td>5</td>\n",
       "      <td>0.3</td>\n",
       "      <td>37</td>\n",
       "      <td>0.490785</td>\n",
       "    </tr>\n",
       "    <tr>\n",
       "      <th>19</th>\n",
       "      <td>5</td>\n",
       "      <td>0.4</td>\n",
       "      <td>49</td>\n",
       "      <td>0.561963</td>\n",
       "    </tr>\n",
       "  </tbody>\n",
       "</table>\n",
       "</div>"
      ],
      "text/plain": [
       "    days  coef  size_prediction      rmse\n",
       "0      1   0.1               29  0.015132\n",
       "1      1   0.2               58  0.026190\n",
       "2      1   0.3               87  0.062501\n",
       "3      1   0.4              116  0.040027\n",
       "4      2   0.1                5  0.029036\n",
       "5      2   0.2               10  0.020079\n",
       "6      2   0.3               15  0.022030\n",
       "7      2   0.4               20  0.032805\n",
       "8      3   0.1                8  0.038743\n",
       "9      3   0.2               15  0.018386\n",
       "10     3   0.3               22  0.118716\n",
       "11     3   0.4               30  0.330647\n",
       "12     4   0.1               10  0.023029\n",
       "13     4   0.2               20  0.020993\n",
       "14     4   0.3               30  0.331135\n",
       "15     4   0.4               39  0.405221\n",
       "16     5   0.1               13  0.020388\n",
       "17     5   0.2               25  0.192668\n",
       "18     5   0.3               37  0.490785\n",
       "19     5   0.4               49  0.561963"
      ]
     },
     "execution_count": 118,
     "metadata": {},
     "output_type": "execute_result"
    }
   ],
   "source": [
    "df = pd.read_csv('data/search_best_params.csv')\n",
    "df"
   ]
  },
  {
   "cell_type": "code",
   "execution_count": 119,
   "metadata": {},
   "outputs": [
    {
     "data": {
      "text/plain": [
       "0.0151317891942608"
      ]
     },
     "execution_count": 119,
     "metadata": {},
     "output_type": "execute_result"
    }
   ],
   "source": [
    "best_accuracy = df['rmse'].min()\n",
    "best_accuracy"
   ]
  },
  {
   "cell_type": "code",
   "execution_count": 120,
   "metadata": {},
   "outputs": [
    {
     "data": {
      "application/vnd.microsoft.datawrangler.viewer.v0+json": {
       "columns": [
        {
         "name": "index",
         "rawType": "int64",
         "type": "integer"
        },
        {
         "name": "days",
         "rawType": "int64",
         "type": "integer"
        },
        {
         "name": "coef",
         "rawType": "float64",
         "type": "float"
        },
        {
         "name": "size_prediction",
         "rawType": "int64",
         "type": "integer"
        },
        {
         "name": "rmse",
         "rawType": "float64",
         "type": "float"
        }
       ],
       "conversionMethod": "pd.DataFrame",
       "ref": "a84fdf7e-bb3b-4870-9e86-34377b490fe5",
       "rows": [
        [
         "0",
         "1",
         "0.1",
         "29",
         "0.0151317891942608"
        ]
       ],
       "shape": {
        "columns": 4,
        "rows": 1
       }
      },
      "text/html": [
       "<div>\n",
       "<style scoped>\n",
       "    .dataframe tbody tr th:only-of-type {\n",
       "        vertical-align: middle;\n",
       "    }\n",
       "\n",
       "    .dataframe tbody tr th {\n",
       "        vertical-align: top;\n",
       "    }\n",
       "\n",
       "    .dataframe thead th {\n",
       "        text-align: right;\n",
       "    }\n",
       "</style>\n",
       "<table border=\"1\" class=\"dataframe\">\n",
       "  <thead>\n",
       "    <tr style=\"text-align: right;\">\n",
       "      <th></th>\n",
       "      <th>days</th>\n",
       "      <th>coef</th>\n",
       "      <th>size_prediction</th>\n",
       "      <th>rmse</th>\n",
       "    </tr>\n",
       "  </thead>\n",
       "  <tbody>\n",
       "    <tr>\n",
       "      <th>0</th>\n",
       "      <td>1</td>\n",
       "      <td>0.1</td>\n",
       "      <td>29</td>\n",
       "      <td>0.015132</td>\n",
       "    </tr>\n",
       "  </tbody>\n",
       "</table>\n",
       "</div>"
      ],
      "text/plain": [
       "   days  coef  size_prediction      rmse\n",
       "0     1   0.1               29  0.015132"
      ]
     },
     "execution_count": 120,
     "metadata": {},
     "output_type": "execute_result"
    }
   ],
   "source": [
    "best_accuracy_params = df[df['rmse'] == best_accuracy]\n",
    "best_accuracy_params"
   ]
  },
  {
   "cell_type": "code",
   "execution_count": 121,
   "metadata": {},
   "outputs": [
    {
     "data": {
      "application/vnd.microsoft.datawrangler.viewer.v0+json": {
       "columns": [
        {
         "name": "date",
         "rawType": "object",
         "type": "string"
        },
        {
         "name": "price",
         "rawType": "float64",
         "type": "float"
        },
        {
         "name": "price_prediction_denormal",
         "rawType": "float64",
         "type": "float"
        }
       ],
       "conversionMethod": "pd.DataFrame",
       "ref": "51d16e2c-3883-44b8-96ef-eb92478eaa54",
       "rows": [
        [
         "2025-02-26 15:21:09",
         "2.29",
         "2.290323932334706"
        ],
        [
         "2025-02-26 15:26:45",
         "2.2800000000000002",
         "2.2904794055782"
        ],
        [
         "2025-02-26 15:31:22",
         "2.2800000000000002",
         "2.290634889375628"
        ],
        [
         "2025-02-26 15:36:45",
         "2.2800000000000002",
         "2.2907903837277077"
        ],
        [
         "2025-02-26 15:40:44",
         "2.2800000000000002",
         "2.290945888635155"
        ],
        [
         "2025-02-26 15:46:22",
         "2.2800000000000002",
         "2.2911014040986863"
        ],
        [
         "2025-02-26 15:51:30",
         "2.2800000000000002",
         "2.291256930119019"
        ],
        [
         "2025-02-26 15:55:59",
         "2.2800000000000002",
         "2.2914124666968685"
        ],
        [
         "2025-02-26 16:01:35",
         "2.27",
         "2.2913994412350855"
        ],
        [
         "2025-02-26 16:06:19",
         "2.27",
         "2.2913864158473456"
        ],
        [
         "2025-02-26 16:10:25",
         "2.27",
         "2.291373390533648"
        ],
        [
         "2025-02-26 16:16:03",
         "2.26",
         "2.291191807971192"
        ],
        [
         "2025-02-26 16:20:25",
         "2.24",
         "2.2906731890623435"
        ],
        [
         "2025-02-26 16:26:14",
         "2.24",
         "2.2901546875446153"
        ],
        [
         "2025-02-26 16:31:21",
         "2.26",
         "2.289973201559702"
        ],
        [
         "2025-02-26 16:36:29",
         "2.27",
         "2.2899601842793764"
        ],
        [
         "2025-02-26 16:40:38",
         "2.27",
         "2.289947167073047"
        ],
        [
         "2025-02-26 16:46:02",
         "2.27",
         "2.2899341499407138"
        ],
        [
         "2025-02-26 16:50:41",
         "2.27",
         "2.289921132882376"
        ],
        [
         "2025-02-26 16:56:52",
         "2.26",
         "2.2897396654057744"
        ],
        [
         "2025-02-26 17:01:22",
         "2.25",
         "2.2893897875571674"
        ],
        [
         "2025-02-26 17:05:34",
         "2.26",
         "2.289208362187648"
        ],
        [
         "2025-02-26 17:11:45",
         "2.27",
         "2.289195349255027"
        ],
        [
         "2025-02-26 17:16:25",
         "2.26",
         "2.2890139392939983"
        ],
        [
         "2025-02-26 17:21:48",
         "2.25",
         "2.288664172338124"
        ],
        [
         "2025-02-26 17:26:21",
         "2.25",
         "2.288314458827501"
        ],
        [
         "2025-02-26 17:31:44",
         "2.25",
         "2.2879647987539617"
        ],
        [
         "2025-02-26 17:35:45",
         "2.24",
         "2.287446910289414"
        ],
        [
         "2025-02-26 17:39:54",
         "2.23",
         "2.2867609076982385"
        ]
       ],
       "shape": {
        "columns": 2,
        "rows": 29
       }
      },
      "text/html": [
       "<div>\n",
       "<style scoped>\n",
       "    .dataframe tbody tr th:only-of-type {\n",
       "        vertical-align: middle;\n",
       "    }\n",
       "\n",
       "    .dataframe tbody tr th {\n",
       "        vertical-align: top;\n",
       "    }\n",
       "\n",
       "    .dataframe thead th {\n",
       "        text-align: right;\n",
       "    }\n",
       "</style>\n",
       "<table border=\"1\" class=\"dataframe\">\n",
       "  <thead>\n",
       "    <tr style=\"text-align: right;\">\n",
       "      <th></th>\n",
       "      <th>price</th>\n",
       "      <th>price_prediction_denormal</th>\n",
       "    </tr>\n",
       "    <tr>\n",
       "      <th>date</th>\n",
       "      <th></th>\n",
       "      <th></th>\n",
       "    </tr>\n",
       "  </thead>\n",
       "  <tbody>\n",
       "    <tr>\n",
       "      <th>2025-02-26 15:21:09</th>\n",
       "      <td>2.29</td>\n",
       "      <td>2.290324</td>\n",
       "    </tr>\n",
       "    <tr>\n",
       "      <th>2025-02-26 15:26:45</th>\n",
       "      <td>2.28</td>\n",
       "      <td>2.290479</td>\n",
       "    </tr>\n",
       "    <tr>\n",
       "      <th>2025-02-26 15:31:22</th>\n",
       "      <td>2.28</td>\n",
       "      <td>2.290635</td>\n",
       "    </tr>\n",
       "    <tr>\n",
       "      <th>2025-02-26 15:36:45</th>\n",
       "      <td>2.28</td>\n",
       "      <td>2.290790</td>\n",
       "    </tr>\n",
       "    <tr>\n",
       "      <th>2025-02-26 15:40:44</th>\n",
       "      <td>2.28</td>\n",
       "      <td>2.290946</td>\n",
       "    </tr>\n",
       "    <tr>\n",
       "      <th>2025-02-26 15:46:22</th>\n",
       "      <td>2.28</td>\n",
       "      <td>2.291101</td>\n",
       "    </tr>\n",
       "    <tr>\n",
       "      <th>2025-02-26 15:51:30</th>\n",
       "      <td>2.28</td>\n",
       "      <td>2.291257</td>\n",
       "    </tr>\n",
       "    <tr>\n",
       "      <th>2025-02-26 15:55:59</th>\n",
       "      <td>2.28</td>\n",
       "      <td>2.291412</td>\n",
       "    </tr>\n",
       "    <tr>\n",
       "      <th>2025-02-26 16:01:35</th>\n",
       "      <td>2.27</td>\n",
       "      <td>2.291399</td>\n",
       "    </tr>\n",
       "    <tr>\n",
       "      <th>2025-02-26 16:06:19</th>\n",
       "      <td>2.27</td>\n",
       "      <td>2.291386</td>\n",
       "    </tr>\n",
       "    <tr>\n",
       "      <th>2025-02-26 16:10:25</th>\n",
       "      <td>2.27</td>\n",
       "      <td>2.291373</td>\n",
       "    </tr>\n",
       "    <tr>\n",
       "      <th>2025-02-26 16:16:03</th>\n",
       "      <td>2.26</td>\n",
       "      <td>2.291192</td>\n",
       "    </tr>\n",
       "    <tr>\n",
       "      <th>2025-02-26 16:20:25</th>\n",
       "      <td>2.24</td>\n",
       "      <td>2.290673</td>\n",
       "    </tr>\n",
       "    <tr>\n",
       "      <th>2025-02-26 16:26:14</th>\n",
       "      <td>2.24</td>\n",
       "      <td>2.290155</td>\n",
       "    </tr>\n",
       "    <tr>\n",
       "      <th>2025-02-26 16:31:21</th>\n",
       "      <td>2.26</td>\n",
       "      <td>2.289973</td>\n",
       "    </tr>\n",
       "    <tr>\n",
       "      <th>2025-02-26 16:36:29</th>\n",
       "      <td>2.27</td>\n",
       "      <td>2.289960</td>\n",
       "    </tr>\n",
       "    <tr>\n",
       "      <th>2025-02-26 16:40:38</th>\n",
       "      <td>2.27</td>\n",
       "      <td>2.289947</td>\n",
       "    </tr>\n",
       "    <tr>\n",
       "      <th>2025-02-26 16:46:02</th>\n",
       "      <td>2.27</td>\n",
       "      <td>2.289934</td>\n",
       "    </tr>\n",
       "    <tr>\n",
       "      <th>2025-02-26 16:50:41</th>\n",
       "      <td>2.27</td>\n",
       "      <td>2.289921</td>\n",
       "    </tr>\n",
       "    <tr>\n",
       "      <th>2025-02-26 16:56:52</th>\n",
       "      <td>2.26</td>\n",
       "      <td>2.289740</td>\n",
       "    </tr>\n",
       "    <tr>\n",
       "      <th>2025-02-26 17:01:22</th>\n",
       "      <td>2.25</td>\n",
       "      <td>2.289390</td>\n",
       "    </tr>\n",
       "    <tr>\n",
       "      <th>2025-02-26 17:05:34</th>\n",
       "      <td>2.26</td>\n",
       "      <td>2.289208</td>\n",
       "    </tr>\n",
       "    <tr>\n",
       "      <th>2025-02-26 17:11:45</th>\n",
       "      <td>2.27</td>\n",
       "      <td>2.289195</td>\n",
       "    </tr>\n",
       "    <tr>\n",
       "      <th>2025-02-26 17:16:25</th>\n",
       "      <td>2.26</td>\n",
       "      <td>2.289014</td>\n",
       "    </tr>\n",
       "    <tr>\n",
       "      <th>2025-02-26 17:21:48</th>\n",
       "      <td>2.25</td>\n",
       "      <td>2.288664</td>\n",
       "    </tr>\n",
       "    <tr>\n",
       "      <th>2025-02-26 17:26:21</th>\n",
       "      <td>2.25</td>\n",
       "      <td>2.288314</td>\n",
       "    </tr>\n",
       "    <tr>\n",
       "      <th>2025-02-26 17:31:44</th>\n",
       "      <td>2.25</td>\n",
       "      <td>2.287965</td>\n",
       "    </tr>\n",
       "    <tr>\n",
       "      <th>2025-02-26 17:35:45</th>\n",
       "      <td>2.24</td>\n",
       "      <td>2.287447</td>\n",
       "    </tr>\n",
       "    <tr>\n",
       "      <th>2025-02-26 17:39:54</th>\n",
       "      <td>2.23</td>\n",
       "      <td>2.286761</td>\n",
       "    </tr>\n",
       "  </tbody>\n",
       "</table>\n",
       "</div>"
      ],
      "text/plain": [
       "                     price  price_prediction_denormal\n",
       "date                                                 \n",
       "2025-02-26 15:21:09   2.29                   2.290324\n",
       "2025-02-26 15:26:45   2.28                   2.290479\n",
       "2025-02-26 15:31:22   2.28                   2.290635\n",
       "2025-02-26 15:36:45   2.28                   2.290790\n",
       "2025-02-26 15:40:44   2.28                   2.290946\n",
       "2025-02-26 15:46:22   2.28                   2.291101\n",
       "2025-02-26 15:51:30   2.28                   2.291257\n",
       "2025-02-26 15:55:59   2.28                   2.291412\n",
       "2025-02-26 16:01:35   2.27                   2.291399\n",
       "2025-02-26 16:06:19   2.27                   2.291386\n",
       "2025-02-26 16:10:25   2.27                   2.291373\n",
       "2025-02-26 16:16:03   2.26                   2.291192\n",
       "2025-02-26 16:20:25   2.24                   2.290673\n",
       "2025-02-26 16:26:14   2.24                   2.290155\n",
       "2025-02-26 16:31:21   2.26                   2.289973\n",
       "2025-02-26 16:36:29   2.27                   2.289960\n",
       "2025-02-26 16:40:38   2.27                   2.289947\n",
       "2025-02-26 16:46:02   2.27                   2.289934\n",
       "2025-02-26 16:50:41   2.27                   2.289921\n",
       "2025-02-26 16:56:52   2.26                   2.289740\n",
       "2025-02-26 17:01:22   2.25                   2.289390\n",
       "2025-02-26 17:05:34   2.26                   2.289208\n",
       "2025-02-26 17:11:45   2.27                   2.289195\n",
       "2025-02-26 17:16:25   2.26                   2.289014\n",
       "2025-02-26 17:21:48   2.25                   2.288664\n",
       "2025-02-26 17:26:21   2.25                   2.288314\n",
       "2025-02-26 17:31:44   2.25                   2.287965\n",
       "2025-02-26 17:35:45   2.24                   2.287447\n",
       "2025-02-26 17:39:54   2.23                   2.286761"
      ]
     },
     "execution_count": 121,
     "metadata": {},
     "output_type": "execute_result"
    }
   ],
   "source": [
    "data_best_accuracy_param, rmse_best_accuracy_param, adfuller_best_accuracy_param = pipeline.prediction_week_crypto(\n",
    "    api_key='test_key',\n",
    "    ndays=best_accuracy_params['days'].values[0],\n",
    "    size_coef=best_accuracy_params['coef'].values[0],\n",
    ")\n",
    "\n",
    "data_best_accuracy_param"
   ]
  },
  {
   "cell_type": "code",
   "execution_count": 122,
   "metadata": {},
   "outputs": [
    {
     "data": {
      "text/plain": [
       "<Axes: xlabel='date'>"
      ]
     },
     "execution_count": 122,
     "metadata": {},
     "output_type": "execute_result"
    },
    {
     "data": {
      "image/png": "[encoded data removed]",
      "text/plain": [
       "<Figure size 800x500 with 1 Axes>"
      ]
     },
     "metadata": {},
     "output_type": "display_data"
    }
   ],
   "source": [
    "data_best_accuracy_param.plot(\n",
    "    rot=45,\n",
    "    figsize=(8, 5),\n",
    ")"
   ]
  },
  {
   "cell_type": "code",
   "execution_count": 123,
   "metadata": {},
   "outputs": [
    {
     "data": {
      "application/vnd.microsoft.datawrangler.viewer.v0+json": {
       "columns": [
        {
         "name": "index",
         "rawType": "object",
         "type": "string"
        },
        {
         "name": "statistic",
         "rawType": "float64",
         "type": "float"
        },
        {
         "name": "p_value",
         "rawType": "float64",
         "type": "float"
        },
        {
         "name": "critical_1",
         "rawType": "float64",
         "type": "float"
        },
        {
         "name": "critical_5",
         "rawType": "float64",
         "type": "float"
        },
        {
         "name": "critical_10",
         "rawType": "float64",
         "type": "float"
        },
        {
         "name": "rmse",
         "rawType": "float64",
         "type": "float"
        }
       ],
       "conversionMethod": "pd.DataFrame",
       "ref": "e8064d0b-08f0-4070-9633-c155b68ae2fb",
       "rows": [
        [
         "adfuller_accuracy",
         "-14.580235293870288",
         "4.4807868388033525e-27",
         "-3.453261605529366",
         "-2.87162848654246",
         "-2.5721455328896603",
         "0.029439224104284713"
        ]
       ],
       "shape": {
        "columns": 6,
        "rows": 1
       }
      },
      "text/html": [
       "<div>\n",
       "<style scoped>\n",
       "    .dataframe tbody tr th:only-of-type {\n",
       "        vertical-align: middle;\n",
       "    }\n",
       "\n",
       "    .dataframe tbody tr th {\n",
       "        vertical-align: top;\n",
       "    }\n",
       "\n",
       "    .dataframe thead th {\n",
       "        text-align: right;\n",
       "    }\n",
       "</style>\n",
       "<table border=\"1\" class=\"dataframe\">\n",
       "  <thead>\n",
       "    <tr style=\"text-align: right;\">\n",
       "      <th></th>\n",
       "      <th>statistic</th>\n",
       "      <th>p_value</th>\n",
       "      <th>critical_1</th>\n",
       "      <th>critical_5</th>\n",
       "      <th>critical_10</th>\n",
       "      <th>rmse</th>\n",
       "    </tr>\n",
       "  </thead>\n",
       "  <tbody>\n",
       "    <tr>\n",
       "      <th>adfuller_accuracy</th>\n",
       "      <td>-14.580235</td>\n",
       "      <td>4.480787e-27</td>\n",
       "      <td>-3.453262</td>\n",
       "      <td>-2.871628</td>\n",
       "      <td>-2.572146</td>\n",
       "      <td>0.029439</td>\n",
       "    </tr>\n",
       "  </tbody>\n",
       "</table>\n",
       "</div>"
      ],
      "text/plain": [
       "                   statistic       p_value  critical_1  critical_5  \\\n",
       "adfuller_accuracy -14.580235  4.480787e-27   -3.453262   -2.871628   \n",
       "\n",
       "                   critical_10      rmse  \n",
       "adfuller_accuracy    -2.572146  0.029439  "
      ]
     },
     "execution_count": 123,
     "metadata": {},
     "output_type": "execute_result"
    }
   ],
   "source": [
    "adfuller_best_accuracy_param[\"rmse\"] = rmse_best_accuracy_param\n",
    "pd.DataFrame(adfuller_best_accuracy_param, index=['adfuller_accuracy'])"
   ]
  },
  {
   "cell_type": "code",
   "execution_count": 124,
   "metadata": {},
   "outputs": [
    {
     "data": {
      "application/vnd.microsoft.datawrangler.viewer.v0+json": {
       "columns": [
        {
         "name": "index",
         "rawType": "int64",
         "type": "integer"
        },
        {
         "name": "days",
         "rawType": "int64",
         "type": "integer"
        },
        {
         "name": "coef",
         "rawType": "float64",
         "type": "float"
        },
        {
         "name": "size_prediction",
         "rawType": "int64",
         "type": "integer"
        },
        {
         "name": "rmse",
         "rawType": "float64",
         "type": "float"
        },
        {
         "name": "diff",
         "rawType": "float64",
         "type": "float"
        }
       ],
       "conversionMethod": "pd.DataFrame",
       "ref": "e8c0ee02-06dc-4037-a449-01ea63ae6797",
       "rows": [
        [
         "0",
         "1",
         "0.1",
         "29",
         "0.0151317891942608",
         "0.9848682108057392"
        ],
        [
         "1",
         "1",
         "0.2",
         "58",
         "0.0261904141981956",
         "0.9738095858018044"
        ],
        [
         "2",
         "1",
         "0.3",
         "87",
         "0.0625007903499151",
         "0.9374992096500849"
        ],
        [
         "3",
         "1",
         "0.4",
         "116",
         "0.0400268064129175",
         "0.9599731935870826"
        ],
        [
         "4",
         "2",
         "0.1",
         "5",
         "0.0290363296142389",
         "1.9709636703857611"
        ],
        [
         "5",
         "2",
         "0.2",
         "10",
         "0.0200794230649758",
         "1.979920576935024"
        ],
        [
         "6",
         "2",
         "0.3",
         "15",
         "0.0220296114200772",
         "1.977970388579923"
        ],
        [
         "7",
         "2",
         "0.4",
         "20",
         "0.0328045318762217",
         "1.9671954681237782"
        ],
        [
         "8",
         "3",
         "0.1",
         "8",
         "0.0387433320672603",
         "2.96125666793274"
        ],
        [
         "9",
         "3",
         "0.2",
         "15",
         "0.0183862362326779",
         "2.981613763767322"
        ],
        [
         "10",
         "3",
         "0.3",
         "22",
         "0.1187160199313922",
         "2.881283980068608"
        ],
        [
         "11",
         "3",
         "0.4",
         "30",
         "0.3306465392516617",
         "2.6693534607483382"
        ],
        [
         "12",
         "4",
         "0.1",
         "10",
         "0.0230288964497457",
         "3.9769711035502544"
        ],
        [
         "13",
         "4",
         "0.2",
         "20",
         "0.0209929029512188",
         "3.979007097048781"
        ],
        [
         "14",
         "4",
         "0.3",
         "30",
         "0.3311346390841547",
         "3.6688653609158455"
        ],
        [
         "15",
         "4",
         "0.4",
         "39",
         "0.4052207823712951",
         "3.594779217628705"
        ],
        [
         "16",
         "5",
         "0.1",
         "13",
         "0.0203880434792778",
         "4.979611956520722"
        ],
        [
         "17",
         "5",
         "0.2",
         "25",
         "0.1926678086002552",
         "4.807332191399745"
        ],
        [
         "18",
         "5",
         "0.3",
         "37",
         "0.4907849183341232",
         "4.509215081665877"
        ],
        [
         "19",
         "5",
         "0.4",
         "49",
         "0.5619632327091345",
         "4.438036767290866"
        ]
       ],
       "shape": {
        "columns": 5,
        "rows": 20
       }
      },
      "text/html": [
       "<div>\n",
       "<style scoped>\n",
       "    .dataframe tbody tr th:only-of-type {\n",
       "        vertical-align: middle;\n",
       "    }\n",
       "\n",
       "    .dataframe tbody tr th {\n",
       "        vertical-align: top;\n",
       "    }\n",
       "\n",
       "    .dataframe thead th {\n",
       "        text-align: right;\n",
       "    }\n",
       "</style>\n",
       "<table border=\"1\" class=\"dataframe\">\n",
       "  <thead>\n",
       "    <tr style=\"text-align: right;\">\n",
       "      <th></th>\n",
       "      <th>days</th>\n",
       "      <th>coef</th>\n",
       "      <th>size_prediction</th>\n",
       "      <th>rmse</th>\n",
       "      <th>diff</th>\n",
       "    </tr>\n",
       "  </thead>\n",
       "  <tbody>\n",
       "    <tr>\n",
       "      <th>0</th>\n",
       "      <td>1</td>\n",
       "      <td>0.1</td>\n",
       "      <td>29</td>\n",
       "      <td>0.015132</td>\n",
       "      <td>0.984868</td>\n",
       "    </tr>\n",
       "    <tr>\n",
       "      <th>1</th>\n",
       "      <td>1</td>\n",
       "      <td>0.2</td>\n",
       "      <td>58</td>\n",
       "      <td>0.026190</td>\n",
       "      <td>0.973810</td>\n",
       "    </tr>\n",
       "    <tr>\n",
       "      <th>2</th>\n",
       "      <td>1</td>\n",
       "      <td>0.3</td>\n",
       "      <td>87</td>\n",
       "      <td>0.062501</td>\n",
       "      <td>0.937499</td>\n",
       "    </tr>\n",
       "    <tr>\n",
       "      <th>3</th>\n",
       "      <td>1</td>\n",
       "      <td>0.4</td>\n",
       "      <td>116</td>\n",
       "      <td>0.040027</td>\n",
       "      <td>0.959973</td>\n",
       "    </tr>\n",
       "    <tr>\n",
       "      <th>4</th>\n",
       "      <td>2</td>\n",
       "      <td>0.1</td>\n",
       "      <td>5</td>\n",
       "      <td>0.029036</td>\n",
       "      <td>1.970964</td>\n",
       "    </tr>\n",
       "    <tr>\n",
       "      <th>5</th>\n",
       "      <td>2</td>\n",
       "      <td>0.2</td>\n",
       "      <td>10</td>\n",
       "      <td>0.020079</td>\n",
       "      <td>1.979921</td>\n",
       "    </tr>\n",
       "    <tr>\n",
       "      <th>6</th>\n",
       "      <td>2</td>\n",
       "      <td>0.3</td>\n",
       "      <td>15</td>\n",
       "      <td>0.022030</td>\n",
       "      <td>1.977970</td>\n",
       "    </tr>\n",
       "    <tr>\n",
       "      <th>7</th>\n",
       "      <td>2</td>\n",
       "      <td>0.4</td>\n",
       "      <td>20</td>\n",
       "      <td>0.032805</td>\n",
       "      <td>1.967195</td>\n",
       "    </tr>\n",
       "    <tr>\n",
       "      <th>8</th>\n",
       "      <td>3</td>\n",
       "      <td>0.1</td>\n",
       "      <td>8</td>\n",
       "      <td>0.038743</td>\n",
       "      <td>2.961257</td>\n",
       "    </tr>\n",
       "    <tr>\n",
       "      <th>9</th>\n",
       "      <td>3</td>\n",
       "      <td>0.2</td>\n",
       "      <td>15</td>\n",
       "      <td>0.018386</td>\n",
       "      <td>2.981614</td>\n",
       "    </tr>\n",
       "    <tr>\n",
       "      <th>10</th>\n",
       "      <td>3</td>\n",
       "      <td>0.3</td>\n",
       "      <td>22</td>\n",
       "      <td>0.118716</td>\n",
       "      <td>2.881284</td>\n",
       "    </tr>\n",
       "    <tr>\n",
       "      <th>11</th>\n",
       "      <td>3</td>\n",
       "      <td>0.4</td>\n",
       "      <td>30</td>\n",
       "      <td>0.330647</td>\n",
       "      <td>2.669353</td>\n",
       "    </tr>\n",
       "    <tr>\n",
       "      <th>12</th>\n",
       "      <td>4</td>\n",
       "      <td>0.1</td>\n",
       "      <td>10</td>\n",
       "      <td>0.023029</td>\n",
       "      <td>3.976971</td>\n",
       "    </tr>\n",
       "    <tr>\n",
       "      <th>13</th>\n",
       "      <td>4</td>\n",
       "      <td>0.2</td>\n",
       "      <td>20</td>\n",
       "      <td>0.020993</td>\n",
       "      <td>3.979007</td>\n",
       "    </tr>\n",
       "    <tr>\n",
       "      <th>14</th>\n",
       "      <td>4</td>\n",
       "      <td>0.3</td>\n",
       "      <td>30</td>\n",
       "      <td>0.331135</td>\n",
       "      <td>3.668865</td>\n",
       "    </tr>\n",
       "    <tr>\n",
       "      <th>15</th>\n",
       "      <td>4</td>\n",
       "      <td>0.4</td>\n",
       "      <td>39</td>\n",
       "      <td>0.405221</td>\n",
       "      <td>3.594779</td>\n",
       "    </tr>\n",
       "    <tr>\n",
       "      <th>16</th>\n",
       "      <td>5</td>\n",
       "      <td>0.1</td>\n",
       "      <td>13</td>\n",
       "      <td>0.020388</td>\n",
       "      <td>4.979612</td>\n",
       "    </tr>\n",
       "    <tr>\n",
       "      <th>17</th>\n",
       "      <td>5</td>\n",
       "      <td>0.2</td>\n",
       "      <td>25</td>\n",
       "      <td>0.192668</td>\n",
       "      <td>4.807332</td>\n",
       "    </tr>\n",
       "    <tr>\n",
       "      <th>18</th>\n",
       "      <td>5</td>\n",
       "      <td>0.3</td>\n",
       "      <td>37</td>\n",
       "      <td>0.490785</td>\n",
       "      <td>4.509215</td>\n",
       "    </tr>\n",
       "    <tr>\n",
       "      <th>19</th>\n",
       "      <td>5</td>\n",
       "      <td>0.4</td>\n",
       "      <td>49</td>\n",
       "      <td>0.561963</td>\n",
       "      <td>4.438037</td>\n",
       "    </tr>\n",
       "  </tbody>\n",
       "</table>\n",
       "</div>"
      ],
      "text/plain": [
       "    days  coef  size_prediction      rmse      diff\n",
       "0      1   0.1               29  0.015132  0.984868\n",
       "1      1   0.2               58  0.026190  0.973810\n",
       "2      1   0.3               87  0.062501  0.937499\n",
       "3      1   0.4              116  0.040027  0.959973\n",
       "4      2   0.1                5  0.029036  1.970964\n",
       "5      2   0.2               10  0.020079  1.979921\n",
       "6      2   0.3               15  0.022030  1.977970\n",
       "7      2   0.4               20  0.032805  1.967195\n",
       "8      3   0.1                8  0.038743  2.961257\n",
       "9      3   0.2               15  0.018386  2.981614\n",
       "10     3   0.3               22  0.118716  2.881284\n",
       "11     3   0.4               30  0.330647  2.669353\n",
       "12     4   0.1               10  0.023029  3.976971\n",
       "13     4   0.2               20  0.020993  3.979007\n",
       "14     4   0.3               30  0.331135  3.668865\n",
       "15     4   0.4               39  0.405221  3.594779\n",
       "16     5   0.1               13  0.020388  4.979612\n",
       "17     5   0.2               25  0.192668  4.807332\n",
       "18     5   0.3               37  0.490785  4.509215\n",
       "19     5   0.4               49  0.561963  4.438037"
      ]
     },
     "execution_count": 124,
     "metadata": {},
     "output_type": "execute_result"
    }
   ],
   "source": [
    "df['diff'] = (df['rmse'] - df['days']).abs()\n",
    "df"
   ]
  },
  {
   "cell_type": "code",
   "execution_count": 125,
   "metadata": {},
   "outputs": [
    {
     "data": {
      "application/vnd.microsoft.datawrangler.viewer.v0+json": {
       "columns": [
        {
         "name": "index",
         "rawType": "int64",
         "type": "integer"
        },
        {
         "name": "days",
         "rawType": "int64",
         "type": "integer"
        },
        {
         "name": "coef",
         "rawType": "float64",
         "type": "float"
        },
        {
         "name": "size_prediction",
         "rawType": "int64",
         "type": "integer"
        },
        {
         "name": "rmse",
         "rawType": "float64",
         "type": "float"
        },
        {
         "name": "diff",
         "rawType": "float64",
         "type": "float"
        }
       ],
       "conversionMethod": "pd.DataFrame",
       "ref": "916dc2fd-7af6-4921-aae6-ddc2de2469a3",
       "rows": [
        [
         "2",
         "1",
         "0.3",
         "87",
         "0.0625007903499151",
         "0.9374992096500849"
        ]
       ],
       "shape": {
        "columns": 5,
        "rows": 1
       }
      },
      "text/html": [
       "<div>\n",
       "<style scoped>\n",
       "    .dataframe tbody tr th:only-of-type {\n",
       "        vertical-align: middle;\n",
       "    }\n",
       "\n",
       "    .dataframe tbody tr th {\n",
       "        vertical-align: top;\n",
       "    }\n",
       "\n",
       "    .dataframe thead th {\n",
       "        text-align: right;\n",
       "    }\n",
       "</style>\n",
       "<table border=\"1\" class=\"dataframe\">\n",
       "  <thead>\n",
       "    <tr style=\"text-align: right;\">\n",
       "      <th></th>\n",
       "      <th>days</th>\n",
       "      <th>coef</th>\n",
       "      <th>size_prediction</th>\n",
       "      <th>rmse</th>\n",
       "      <th>diff</th>\n",
       "    </tr>\n",
       "  </thead>\n",
       "  <tbody>\n",
       "    <tr>\n",
       "      <th>2</th>\n",
       "      <td>1</td>\n",
       "      <td>0.3</td>\n",
       "      <td>87</td>\n",
       "      <td>0.062501</td>\n",
       "      <td>0.937499</td>\n",
       "    </tr>\n",
       "  </tbody>\n",
       "</table>\n",
       "</div>"
      ],
      "text/plain": [
       "   days  coef  size_prediction      rmse      diff\n",
       "2     1   0.3               87  0.062501  0.937499"
      ]
     },
     "execution_count": 125,
     "metadata": {},
     "output_type": "execute_result"
    }
   ],
   "source": [
    "best_size_params = df[df['diff'] == df['diff'].min()]\n",
    "best_size_params"
   ]
  },
  {
   "cell_type": "code",
   "execution_count": 126,
   "metadata": {},
   "outputs": [
    {
     "data": {
      "application/vnd.microsoft.datawrangler.viewer.v0+json": {
       "columns": [
        {
         "name": "date",
         "rawType": "object",
         "type": "string"
        },
        {
         "name": "price",
         "rawType": "float64",
         "type": "float"
        },
        {
         "name": "price_prediction_denormal",
         "rawType": "float64",
         "type": "float"
        }
       ],
       "conversionMethod": "pd.DataFrame",
       "ref": "07af83d1-46dc-44e4-ad52-274d201122de",
       "rows": [
        [
         "2025-02-26 10:32:09",
         "2.3",
         "2.3004933172241477"
        ],
        [
         "2025-02-26 10:36:17",
         "2.3",
         "2.3009867402578106"
        ],
        [
         "2025-02-26 10:41:05",
         "2.31",
         "2.3016283072206116"
        ],
        [
         "2025-02-26 10:46:21",
         "2.31",
         "2.302270053066741"
        ],
        [
         "2025-02-26 10:51:25",
         "2.31",
         "2.302911977846076"
        ],
        [
         "2025-02-26 10:55:59",
         "2.31",
         "2.3035540816085076"
        ],
        [
         "2025-02-26 11:01:48",
         "2.31",
         "2.3041963644039396"
        ],
        [
         "2025-02-26 11:06:45",
         "2.31",
         "2.3048388262822908"
        ],
        [
         "2025-02-26 11:10:31",
         "2.31",
         "2.305481467293493"
        ],
        [
         "2025-02-26 11:15:29",
         "2.31",
         "2.3061242874874934"
        ],
        [
         "2025-02-26 11:20:34",
         "2.31",
         "2.3067672869142517"
        ],
        [
         "2025-02-26 11:26:48",
         "2.3",
         "2.307262055625007"
        ],
        [
         "2025-02-26 11:31:32",
         "2.3",
         "2.3077569304565997"
        ],
        [
         "2025-02-26 11:35:30",
         "2.3",
         "2.3082519114317916"
        ],
        [
         "2025-02-26 11:41:16",
         "2.29",
         "2.308598502610345"
        ],
        [
         "2025-02-26 11:45:41",
         "2.29",
         "2.308945145830638"
        ],
        [
         "2025-02-26 11:51:03",
         "2.2800000000000002",
         "2.3091433100938334"
        ],
        [
         "2025-02-26 11:56:11",
         "2.2800000000000002",
         "2.3093414913643944"
        ],
        [
         "2025-02-26 12:00:49",
         "2.2800000000000002",
         "2.3095396896437816"
        ],
        [
         "2025-02-26 12:05:29",
         "2.2800000000000002",
         "2.309737904933454"
        ],
        [
         "2025-02-26 12:10:18",
         "2.2800000000000002",
         "2.309936137234872"
        ],
        [
         "2025-02-26 12:16:18",
         "2.2800000000000002",
         "2.3101343865494948"
        ],
        [
         "2025-02-26 12:20:38",
         "2.2800000000000002",
         "2.3103326528787833"
        ],
        [
         "2025-02-26 12:26:25",
         "2.27",
         "2.310382325520367"
        ],
        [
         "2025-02-26 12:30:38",
         "2.27",
         "2.310431999229923"
        ],
        [
         "2025-02-26 12:36:21",
         "2.27",
         "2.310481674007474"
        ],
        [
         "2025-02-26 12:40:58",
         "2.2800000000000002",
         "2.3106799701425653"
        ],
        [
         "2025-02-26 12:45:53",
         "2.27",
         "2.3107296502515435"
        ],
        [
         "2025-02-26 12:52:59",
         "2.25",
         "2.3104820876275003"
        ],
        [
         "2025-02-26 12:56:00",
         "2.24",
         "2.3100859598856514"
        ],
        [
         "2025-02-26 13:01:40",
         "2.25",
         "2.3098384662241007"
        ],
        [
         "2025-02-26 13:06:53",
         "2.24",
         "2.309442448829912"
        ],
        [
         "2025-02-26 13:11:14",
         "2.24",
         "2.3090464993321493"
        ],
        [
         "2025-02-26 13:16:47",
         "2.24",
         "2.3086506177191723"
        ],
        [
         "2025-02-26 13:21:17",
         "2.23",
         "2.30810633967373"
        ],
        [
         "2025-02-26 13:26:52",
         "2.25",
         "2.3078590581010205"
        ],
        [
         "2025-02-26 13:31:01",
         "2.24",
         "2.307463380072575"
        ],
        [
         "2025-02-26 13:36:57",
         "2.24",
         "2.3070677698823716"
        ],
        [
         "2025-02-26 13:41:06",
         "2.24",
         "2.30667222751878"
        ],
        [
         "2025-02-26 13:45:45",
         "2.24",
         "2.3062767529701715"
        ],
        [
         "2025-02-26 13:51:31",
         "2.24",
         "2.305881346224919"
        ],
        [
         "2025-02-26 13:55:24",
         "2.24",
         "2.3054860072713974"
        ],
        [
         "2025-02-26 14:01:21",
         "2.23",
         "2.3049424753015963"
        ],
        [
         "2025-02-26 14:05:27",
         "2.22",
         "2.3042508551633607"
        ],
        [
         "2025-02-26 14:12:38",
         "2.21",
         "2.3034112802470523"
        ],
        [
         "2025-02-26 14:15:30",
         "2.21",
         "2.302572011237559"
        ],
        [
         "2025-02-26 14:21:07",
         "2.21",
         "2.3017330480234204"
        ],
        [
         "2025-02-26 14:26:54",
         "2.2",
         "2.3007463996009725"
        ],
        [
         "2025-02-26 14:31:26",
         "2.2",
         "2.299760174109894"
        ],
        [
         "2025-02-26 14:36:14",
         "2.21",
         "2.298922235414382"
        ]
       ],
       "shape": {
        "columns": 2,
        "rows": 87
       }
      },
      "text/html": [
       "<div>\n",
       "<style scoped>\n",
       "    .dataframe tbody tr th:only-of-type {\n",
       "        vertical-align: middle;\n",
       "    }\n",
       "\n",
       "    .dataframe tbody tr th {\n",
       "        vertical-align: top;\n",
       "    }\n",
       "\n",
       "    .dataframe thead th {\n",
       "        text-align: right;\n",
       "    }\n",
       "</style>\n",
       "<table border=\"1\" class=\"dataframe\">\n",
       "  <thead>\n",
       "    <tr style=\"text-align: right;\">\n",
       "      <th></th>\n",
       "      <th>price</th>\n",
       "      <th>price_prediction_denormal</th>\n",
       "    </tr>\n",
       "    <tr>\n",
       "      <th>date</th>\n",
       "      <th></th>\n",
       "      <th></th>\n",
       "    </tr>\n",
       "  </thead>\n",
       "  <tbody>\n",
       "    <tr>\n",
       "      <th>2025-02-26 10:32:09</th>\n",
       "      <td>2.30</td>\n",
       "      <td>2.300493</td>\n",
       "    </tr>\n",
       "    <tr>\n",
       "      <th>2025-02-26 10:36:17</th>\n",
       "      <td>2.30</td>\n",
       "      <td>2.300987</td>\n",
       "    </tr>\n",
       "    <tr>\n",
       "      <th>2025-02-26 10:41:05</th>\n",
       "      <td>2.31</td>\n",
       "      <td>2.301628</td>\n",
       "    </tr>\n",
       "    <tr>\n",
       "      <th>2025-02-26 10:46:21</th>\n",
       "      <td>2.31</td>\n",
       "      <td>2.302270</td>\n",
       "    </tr>\n",
       "    <tr>\n",
       "      <th>2025-02-26 10:51:25</th>\n",
       "      <td>2.31</td>\n",
       "      <td>2.302912</td>\n",
       "    </tr>\n",
       "    <tr>\n",
       "      <th>...</th>\n",
       "      <td>...</td>\n",
       "      <td>...</td>\n",
       "    </tr>\n",
       "    <tr>\n",
       "      <th>2025-02-26 17:21:48</th>\n",
       "      <td>2.25</td>\n",
       "      <td>2.298483</td>\n",
       "    </tr>\n",
       "    <tr>\n",
       "      <th>2025-02-26 17:26:21</th>\n",
       "      <td>2.25</td>\n",
       "      <td>2.298237</td>\n",
       "    </tr>\n",
       "    <tr>\n",
       "      <th>2025-02-26 17:31:44</th>\n",
       "      <td>2.25</td>\n",
       "      <td>2.297991</td>\n",
       "    </tr>\n",
       "    <tr>\n",
       "      <th>2025-02-26 17:35:45</th>\n",
       "      <td>2.24</td>\n",
       "      <td>2.297597</td>\n",
       "    </tr>\n",
       "    <tr>\n",
       "      <th>2025-02-26 17:39:54</th>\n",
       "      <td>2.23</td>\n",
       "      <td>2.297055</td>\n",
       "    </tr>\n",
       "  </tbody>\n",
       "</table>\n",
       "<p>87 rows × 2 columns</p>\n",
       "</div>"
      ],
      "text/plain": [
       "                     price  price_prediction_denormal\n",
       "date                                                 \n",
       "2025-02-26 10:32:09   2.30                   2.300493\n",
       "2025-02-26 10:36:17   2.30                   2.300987\n",
       "2025-02-26 10:41:05   2.31                   2.301628\n",
       "2025-02-26 10:46:21   2.31                   2.302270\n",
       "2025-02-26 10:51:25   2.31                   2.302912\n",
       "...                    ...                        ...\n",
       "2025-02-26 17:21:48   2.25                   2.298483\n",
       "2025-02-26 17:26:21   2.25                   2.298237\n",
       "2025-02-26 17:31:44   2.25                   2.297991\n",
       "2025-02-26 17:35:45   2.24                   2.297597\n",
       "2025-02-26 17:39:54   2.23                   2.297055\n",
       "\n",
       "[87 rows x 2 columns]"
      ]
     },
     "execution_count": 126,
     "metadata": {},
     "output_type": "execute_result"
    }
   ],
   "source": [
    "data_best_size_param, rmse_best_size_param, adfuller_best_size_param = pipeline.prediction_week_crypto(\n",
    "    api_key='test_key',\n",
    "    ndays=best_size_params['days'].values[0],\n",
    "    size_coef=best_size_params['coef'].values[0],\n",
    ")\n",
    "\n",
    "data_best_size_param"
   ]
  },
  {
   "cell_type": "code",
   "execution_count": 127,
   "metadata": {},
   "outputs": [
    {
     "data": {
      "text/plain": [
       "<Axes: xlabel='date'>"
      ]
     },
     "execution_count": 127,
     "metadata": {},
     "output_type": "execute_result"
    },
    {
     "data": {
      "image/png": "[encoded data removed]",
      "text/plain": [
       "<Figure size 800x500 with 1 Axes>"
      ]
     },
     "metadata": {},
     "output_type": "display_data"
    }
   ],
   "source": [
    "data_best_size_param.plot(\n",
    "    rot=45,\n",
    "    figsize=(8, 5),\n",
    ")"
   ]
  },
  {
   "cell_type": "code",
   "execution_count": 128,
   "metadata": {},
   "outputs": [
    {
     "data": {
      "application/vnd.microsoft.datawrangler.viewer.v0+json": {
       "columns": [
        {
         "name": "index",
         "rawType": "object",
         "type": "string"
        },
        {
         "name": "statistic",
         "rawType": "float64",
         "type": "float"
        },
        {
         "name": "p_value",
         "rawType": "float64",
         "type": "float"
        },
        {
         "name": "critical_1",
         "rawType": "float64",
         "type": "float"
        },
        {
         "name": "critical_5",
         "rawType": "float64",
         "type": "float"
        },
        {
         "name": "critical_10",
         "rawType": "float64",
         "type": "float"
        },
        {
         "name": "rmse",
         "rawType": "float64",
         "type": "float"
        }
       ],
       "conversionMethod": "pd.DataFrame",
       "ref": "cdf3256f-1e13-463f-83a0-6ece8bacadc6",
       "rows": [
        [
         "adfuller_size",
         "-14.580235293870288",
         "4.4807868388033525e-27",
         "-3.453261605529366",
         "-2.87162848654246",
         "-2.5721455328896603",
         "0.047888203105306094"
        ]
       ],
       "shape": {
        "columns": 6,
        "rows": 1
       }
      },
      "text/html": [
       "<div>\n",
       "<style scoped>\n",
       "    .dataframe tbody tr th:only-of-type {\n",
       "        vertical-align: middle;\n",
       "    }\n",
       "\n",
       "    .dataframe tbody tr th {\n",
       "        vertical-align: top;\n",
       "    }\n",
       "\n",
       "    .dataframe thead th {\n",
       "        text-align: right;\n",
       "    }\n",
       "</style>\n",
       "<table border=\"1\" class=\"dataframe\">\n",
       "  <thead>\n",
       "    <tr style=\"text-align: right;\">\n",
       "      <th></th>\n",
       "      <th>statistic</th>\n",
       "      <th>p_value</th>\n",
       "      <th>critical_1</th>\n",
       "      <th>critical_5</th>\n",
       "      <th>critical_10</th>\n",
       "      <th>rmse</th>\n",
       "    </tr>\n",
       "  </thead>\n",
       "  <tbody>\n",
       "    <tr>\n",
       "      <th>adfuller_size</th>\n",
       "      <td>-14.580235</td>\n",
       "      <td>4.480787e-27</td>\n",
       "      <td>-3.453262</td>\n",
       "      <td>-2.871628</td>\n",
       "      <td>-2.572146</td>\n",
       "      <td>0.047888</td>\n",
       "    </tr>\n",
       "  </tbody>\n",
       "</table>\n",
       "</div>"
      ],
      "text/plain": [
       "               statistic       p_value  critical_1  critical_5  critical_10  \\\n",
       "adfuller_size -14.580235  4.480787e-27   -3.453262   -2.871628    -2.572146   \n",
       "\n",
       "                   rmse  \n",
       "adfuller_size  0.047888  "
      ]
     },
     "execution_count": 128,
     "metadata": {},
     "output_type": "execute_result"
    }
   ],
   "source": [
    "adfuller_best_size_param[\"rmse\"] = rmse_best_size_param\n",
    "pd.DataFrame(adfuller_best_size_param, index=['adfuller_size'])"
   ]
  },
  {
   "cell_type": "markdown",
   "metadata": {},
   "source": [
    "Real differeces accuracy between best size+rmse and best rmse"
   ]
  },
  {
   "cell_type": "code",
   "execution_count": 129,
   "metadata": {},
   "outputs": [
    {
     "data": {
      "text/plain": [
       "62.66802051463115"
      ]
     },
     "execution_count": 129,
     "metadata": {},
     "output_type": "execute_result"
    }
   ],
   "source": [
    "abs(rmse_best_size_param - rmse_best_accuracy_param) / rmse_best_accuracy_param * 100"
   ]
  },
  {
   "cell_type": "code",
   "execution_count": 130,
   "metadata": {},
   "outputs": [
    {
     "data": {
      "text/plain": [
       "'7:07:45'"
      ]
     },
     "execution_count": 130,
     "metadata": {},
     "output_type": "execute_result"
    }
   ],
   "source": [
    "timedelta_size = datetime.strptime(data_best_size_param.index[-1], '%Y-%m-%d %H:%M:%S') - datetime.strptime(data_best_size_param.index[0], '%Y-%m-%d %H:%M:%S')    \n",
    "str(timedelta_size)"
   ]
  },
  {
   "cell_type": "code",
   "execution_count": 131,
   "metadata": {},
   "outputs": [
    {
     "data": {
      "text/plain": [
       "'2:18:45'"
      ]
     },
     "execution_count": 131,
     "metadata": {},
     "output_type": "execute_result"
    }
   ],
   "source": [
    "timedelta_accuracy = datetime.strptime(data_best_accuracy_param.index[-1], '%Y-%m-%d %H:%M:%S') - datetime.strptime(data_best_accuracy_param.index[0], '%Y-%m-%d %H:%M:%S')    \n",
    "str(timedelta_accuracy)"
   ]
  },
  {
   "cell_type": "code",
   "execution_count": 132,
   "metadata": {},
   "outputs": [
    {
     "data": {
      "text/plain": [
       "'4:49:00'"
      ]
     },
     "execution_count": 132,
     "metadata": {},
     "output_type": "execute_result"
    }
   ],
   "source": [
    "str(timedelta_size - timedelta_accuracy)"
   ]
  },
  {
   "cell_type": "code",
   "execution_count": null,
   "metadata": {},
   "outputs": [],
   "source": []
  }
 ],
 "metadata": {
  "kernelspec": {
   "display_name": "Python 3",
   "language": "python",
   "name": "python3"
  },
  "language_info": {
   "codemirror_mode": {
    "name": "ipython",
    "version": 3
   },
   "file_extension": ".py",
   "mimetype": "text/x-python",
   "name": "python",
   "nbconvert_exporter": "python",
   "pygments_lexer": "ipython3",
   "version": "3.11.0"
  }
 },
 "nbformat": 4,
 "nbformat_minor": 2
}
